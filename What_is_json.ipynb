{
 "cells": [
  {
   "cell_type": "markdown",
   "metadata": {},
   "source": [
    "# What is .json file?\n",
    "\n",
    "## 1.Introduction\n",
    "When configuring the C and C++ environments in VS Code, we could always see that there are plenty of things to do with some .json files such as launch.json and tasks.json. They are \"bridges\" to convey the users' requirements to VS Code.\n",
    "\n",
    "JSON stands for JavaScript Object Notation, and it is a universal data interchange format.\n",
    "It specifies the rules of interchanging data in various applications. Both human and computer could easily understand the rules through a json file.\n",
    "\n",
    "## 2.Syntax explained\n",
    "The basic logic of json file is \"key and value\", like dictionary in python. \n",
    "\n",
    "`\"I am a key\":\"I am a value\"`\n",
    "\n",
    "Brackets `{}` should be used to enclose the entire content which acts like a folder specify an \"object\".\n",
    "\n",
    "However, for merely using json file to configure programming environments, the only things to do are: \n",
    "- 1.download the template of json files from elsewhere\n",
    "- 2.find the file paths that are to be changed\n",
    "- 3.run the code!\n",
    "\n",
    "\n",
    "## 3. json files that needed to know\n",
    "In order to configure C environment on either Windows or MacOS systems, 3 json files are required. As you can see, they are all under a folder called \".vscode\". This is a folder which is recommended by the official site of VS Code to configure only to this current project. So that json files may not contaminate root directories or other projects. Specific configurations can be applied to each project.\n",
    "\n",
    "### 3.1. c_cpp_properties.json\n",
    "This file tells VS Code where the compiler is in the computer.\n",
    "\n",
    "### 3.2. task.json\n",
    "This file defines the \"build task\", including the compiler to use, the files to compile, and the location to put exe. files.\n",
    "\n",
    "### 3.3. launch.json\n",
    "This file defines the \"debug task\".\n",
    "\n",
    "To use those files in other places, just remember changing the location where your compiler and debugger is. For example, my g++ compiler is located at: `D:\\msys2\\ucrt64\\bin\\g++.exe`."
   ]
  }
 ],
 "metadata": {
  "kernelspec": {
   "display_name": "base",
   "language": "python",
   "name": "python3"
  },
  "language_info": {
   "name": "python",
   "version": "3.12.3"
  }
 },
 "nbformat": 4,
 "nbformat_minor": 2
}
